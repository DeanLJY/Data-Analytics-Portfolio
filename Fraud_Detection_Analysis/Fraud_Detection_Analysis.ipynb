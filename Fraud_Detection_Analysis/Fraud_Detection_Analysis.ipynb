{
 "cells": [
  {
   "cell_type": "markdown",
   "metadata": {},
   "source": [
    "# Fraud Detection Analysis with Machine Learning\n",
    "\n",
    "In the world of finance and banking, fraud is a major issue that results in significant loss and damage. With the advancement of technology, fraudulent transactions have become more complex and harder to spot. The traditional rules-based systems are no longer sufficient to detect these sophisticated fraudulent activities.\n",
    "\n",
    "This Jupyter notebook presents a data science project that focuses on detecting fraudulent transactions using machine learning techniques. The project will explore, analyze, and model a dataset containing transactions, with the ultimate goal of creating a predictive model that can identify potential fraudulent activities. This notebook also includes additional steps such as data cleaning, feature engineering, model training and evaluation, and conclusion."
   ]
  },
  {
   "cell_type": "markdown",
   "id": "bcb3f525",
   "metadata": {
    "papermill": {
     "duration": 0.048412,
     "end_time": "2022-07-23T18:19:12.305310",
     "exception": false,
     "start_time": "2022-07-23T18:19:12.256898",
     "status": "completed"
    },
    "tags": []
   },
   "source": [
    "# **1.Introduction**"
   ]
  },
  {
   "cell_type": "code",
   "execution_count": 1,
   "id": "ecc4e15f",
   "metadata": {
    "ExecuteTime": {
     "end_time": "2022-07-23T15:21:22.811462Z",
     "start_time": "2022-07-23T15:21:22.805479Z"
    },
    "execution": {
     "iopub.execute_input": "2022-07-23T18:19:12.415140Z",
     "iopub.status.busy": "2022-07-23T18:19:12.414151Z",
     "iopub.status.idle": "2022-07-23T18:19:13.396516Z",
     "shell.execute_reply": "2022-07-23T18:19:13.397102Z",
     "shell.execute_reply.started": "2022-07-23T18:04:50.210885Z"
    },
    "papermill": {
     "duration": 1.043921,
     "end_time": "2022-07-23T18:19:13.397427",
     "exception": false,
     "start_time": "2022-07-23T18:19:12.353506",
     "status": "completed"
    },
    "tags": []
   },
   "outputs": [],
   "source": [
    "import numpy as np\n",
    "import pandas as pd\n",
    "import matplotlib.pyplot as plt\n",
    "%matplotlib inline\n",
    "import seaborn as sns\n",
    "import warnings\n",
    "warnings.filterwarnings(\"ignore\")\n",
    "from IPython.display import display\n",
    "from collections import Counter\n"
   ]
  },
  {
   "cell_type": "markdown",
   "id": "e6b55dc4",
   "metadata": {
    "papermill": {
     "duration": 0.045182,
     "end_time": "2022-07-23T18:19:13.489451",
     "exception": false,
     "start_time": "2022-07-23T18:19:13.444269",
     "status": "completed"
    },
    "tags": []
   },
   "source": [
    "### Loading the dataset"
   ]
  },
  {
   "cell_type": "code",
   "execution_count": 2,
   "id": "a919ec09",
   "metadata": {
    "ExecuteTime": {
     "end_time": "2022-07-23T14:01:14.673256Z",
     "start_time": "2022-07-23T14:00:59.883965Z"
    },
    "execution": {
     "iopub.execute_input": "2022-07-23T18:19:13.584644Z",
     "iopub.status.busy": "2022-07-23T18:19:13.583671Z",
     "iopub.status.idle": "2022-07-23T18:19:32.304852Z",
     "shell.execute_reply": "2022-07-23T18:19:32.304294Z",
     "shell.execute_reply.started": "2022-07-23T18:04:50.362922Z"
    },
    "papermill": {
     "duration": 18.769786,
     "end_time": "2022-07-23T18:19:32.304990",
     "exception": false,
     "start_time": "2022-07-23T18:19:13.535204",
     "status": "completed"
    },
    "tags": []
   },
   "outputs": [
    {
     "data": {
      "text/html": [
       "<div>\n",
       "<style scoped>\n",
       "    .dataframe tbody tr th:only-of-type {\n",
       "        vertical-align: middle;\n",
       "    }\n",
       "\n",
       "    .dataframe tbody tr th {\n",
       "        vertical-align: top;\n",
       "    }\n",
       "\n",
       "    .dataframe thead th {\n",
       "        text-align: right;\n",
       "    }\n",
       "</style>\n",
       "<table border=\"1\" class=\"dataframe\">\n",
       "  <thead>\n",
       "    <tr style=\"text-align: right;\">\n",
       "      <th></th>\n",
       "      <th>step</th>\n",
       "      <th>type</th>\n",
       "      <th>amount</th>\n",
       "      <th>nameOrig</th>\n",
       "      <th>oldbalanceOrg</th>\n",
       "      <th>newbalanceOrig</th>\n",
       "      <th>nameDest</th>\n",
       "      <th>oldbalanceDest</th>\n",
       "      <th>newbalanceDest</th>\n",
       "      <th>isFraud</th>\n",
       "      <th>isFlaggedFraud</th>\n",
       "    </tr>\n",
       "  </thead>\n",
       "  <tbody>\n",
       "    <tr>\n",
       "      <th>0</th>\n",
       "      <td>1</td>\n",
       "      <td>PAYMENT</td>\n",
       "      <td>9839.64</td>\n",
       "      <td>C1231006815</td>\n",
       "      <td>170136.0</td>\n",
       "      <td>160296.36</td>\n",
       "      <td>M1979787155</td>\n",
       "      <td>0.0</td>\n",
       "      <td>0.0</td>\n",
       "      <td>0</td>\n",
       "      <td>0</td>\n",
       "    </tr>\n",
       "    <tr>\n",
       "      <th>1</th>\n",
       "      <td>1</td>\n",
       "      <td>PAYMENT</td>\n",
       "      <td>1864.28</td>\n",
       "      <td>C1666544295</td>\n",
       "      <td>21249.0</td>\n",
       "      <td>19384.72</td>\n",
       "      <td>M2044282225</td>\n",
       "      <td>0.0</td>\n",
       "      <td>0.0</td>\n",
       "      <td>0</td>\n",
       "      <td>0</td>\n",
       "    </tr>\n",
       "    <tr>\n",
       "      <th>2</th>\n",
       "      <td>1</td>\n",
       "      <td>TRANSFER</td>\n",
       "      <td>181.00</td>\n",
       "      <td>C1305486145</td>\n",
       "      <td>181.0</td>\n",
       "      <td>0.00</td>\n",
       "      <td>C553264065</td>\n",
       "      <td>0.0</td>\n",
       "      <td>0.0</td>\n",
       "      <td>1</td>\n",
       "      <td>0</td>\n",
       "    </tr>\n",
       "    <tr>\n",
       "      <th>3</th>\n",
       "      <td>1</td>\n",
       "      <td>CASH_OUT</td>\n",
       "      <td>181.00</td>\n",
       "      <td>C840083671</td>\n",
       "      <td>181.0</td>\n",
       "      <td>0.00</td>\n",
       "      <td>C38997010</td>\n",
       "      <td>21182.0</td>\n",
       "      <td>0.0</td>\n",
       "      <td>1</td>\n",
       "      <td>0</td>\n",
       "    </tr>\n",
       "    <tr>\n",
       "      <th>4</th>\n",
       "      <td>1</td>\n",
       "      <td>PAYMENT</td>\n",
       "      <td>11668.14</td>\n",
       "      <td>C2048537720</td>\n",
       "      <td>41554.0</td>\n",
       "      <td>29885.86</td>\n",
       "      <td>M1230701703</td>\n",
       "      <td>0.0</td>\n",
       "      <td>0.0</td>\n",
       "      <td>0</td>\n",
       "      <td>0</td>\n",
       "    </tr>\n",
       "  </tbody>\n",
       "</table>\n",
       "</div>"
      ],
      "text/plain": [
       "   step      type    amount     nameOrig  oldbalanceOrg  newbalanceOrig  \\\n",
       "0     1   PAYMENT   9839.64  C1231006815       170136.0       160296.36   \n",
       "1     1   PAYMENT   1864.28  C1666544295        21249.0        19384.72   \n",
       "2     1  TRANSFER    181.00  C1305486145          181.0            0.00   \n",
       "3     1  CASH_OUT    181.00   C840083671          181.0            0.00   \n",
       "4     1   PAYMENT  11668.14  C2048537720        41554.0        29885.86   \n",
       "\n",
       "      nameDest  oldbalanceDest  newbalanceDest  isFraud  isFlaggedFraud  \n",
       "0  M1979787155             0.0             0.0        0               0  \n",
       "1  M2044282225             0.0             0.0        0               0  \n",
       "2   C553264065             0.0             0.0        1               0  \n",
       "3    C38997010         21182.0             0.0        1               0  \n",
       "4  M1230701703             0.0             0.0        0               0  "
      ]
     },
     "execution_count": 2,
     "metadata": {},
     "output_type": "execute_result"
    }
   ],
   "source": [
    "data  = pd.read_csv(\"../input/fraud-insaid/Fraud.csv\")\n",
    "data.head()"
   ]
  },
  {
   "cell_type": "code",
   "execution_count": 3,
   "id": "c06c0bc8",
   "metadata": {
    "ExecuteTime": {
     "end_time": "2022-07-23T14:01:15.371371Z",
     "start_time": "2022-07-23T14:01:14.677257Z"
    },
    "execution": {
     "iopub.execute_input": "2022-07-23T18:19:32.401317Z",
     "iopub.status.busy": "2022-07-23T18:19:32.400697Z",
     "iopub.status.idle": "2022-07-23T18:19:32.948710Z",
     "shell.execute_reply": "2022-07-23T18:19:32.948189Z",
     "shell.execute_reply.started": "2022-07-23T18:05:05.456062Z"
    },
    "papermill": {
     "duration": 0.597035,
     "end_time": "2022-07-23T18:19:32.948852",
     "exception": false,
     "start_time": "2022-07-23T18:19:32.351817",
     "status": "completed"
    },
    "tags": []
   },
   "outputs": [
    {
     "data": {
      "text/plain": [
       "array(['PAYMENT', 'TRANSFER', 'CASH_OUT', 'DEBIT', 'CASH_IN'],\n",
       "      dtype=object)"
      ]
     },
     "execution_count": 3,
     "metadata": {},
     "output_type": "execute_result"
    }
   ],
   "source": [
    "data[\"type\"].unique()"
   ]
  },
  {
   "cell_type": "markdown",
   "id": "b60f6cad",
   "metadata": {
    "papermill": {
     "duration": 0.0464,
     "end_time": "2022-07-23T18:19:33.042782",
     "exception": false,
     "start_time": "2022-07-23T18:19:32.996382",
     "status": "completed"
    },
    "tags": []
   },
   "source": [
    "### Checking the statistical values of numerical features"
   ]
  },
  {
   "cell_type": "code",
   "execution_count": 4,
   "id": "7954f764",
   "metadata": {
    "ExecuteTime": {
     "end_time": "2022-07-23T14:01:18.254935Z",
     "start_time": "2022-07-23T14:01:15.375373Z"
    },
    "execution": {
     "iopub.execute_input": "2022-07-23T18:19:33.145111Z",
     "iopub.status.busy": "2022-07-23T18:19:33.144204Z",
     "iopub.status.idle": "2022-07-23T18:19:34.780795Z",
     "shell.execute_reply": "2022-07-23T18:19:34.780219Z",
     "shell.execute_reply.started": "2022-07-23T18:05:05.973531Z"
    },
    "papermill": {
     "duration": 1.691788,
     "end_time": "2022-07-23T18:19:34.780949",
     "exception": false,
     "start_time": "2022-07-23T18:19:33.089161",
     "status": "completed"
    },
    "tags": []
   },
   "outputs": [
    {
     "data": {
      "text/html": [
       "<div>\n",
       "<style scoped>\n",
       "    .dataframe tbody tr th:only-of-type {\n",
       "        vertical-align: middle;\n",
       "    }\n",
       "\n",
       "    .dataframe tbody tr th {\n",
       "        vertical-align: top;\n",
       "    }\n",
       "\n",
       "    .dataframe thead th {\n",
       "        text-align: right;\n",
       "    }\n",
       "</style>\n",
       "<table border=\"1\" class=\"dataframe\">\n",
       "  <thead>\n",
       "    <tr style=\"text-align: right;\">\n",
       "      <th></th>\n",
       "      <th>step</th>\n",
       "      <th>amount</th>\n",
       "      <th>oldbalanceOrg</th>\n",
       "      <th>newbalanceOrig</th>\n",
       "      <th>oldbalanceDest</th>\n",
       "      <th>newbalanceDest</th>\n",
       "      <th>isFraud</th>\n",
       "      <th>isFlaggedFraud</th>\n",
       "    </tr>\n",
       "  </thead>\n",
       "  <tbody>\n",
       "    <tr>\n",
       "      <th>count</th>\n",
       "      <td>6.362620e+06</td>\n",
       "      <td>6.362620e+06</td>\n",
       "      <td>6.362620e+06</td>\n",
       "      <td>6.362620e+06</td>\n",
       "      <td>6.362620e+06</td>\n",
       "      <td>6.362620e+06</td>\n",
       "      <td>6.362620e+06</td>\n",
       "      <td>6.362620e+06</td>\n",
       "    </tr>\n",
       "    <tr>\n",
       "      <th>mean</th>\n",
       "      <td>2.433972e+02</td>\n",
       "      <td>1.798619e+05</td>\n",
       "      <td>8.338831e+05</td>\n",
       "      <td>8.551137e+05</td>\n",
       "      <td>1.100702e+06</td>\n",
       "      <td>1.224996e+06</td>\n",
       "      <td>1.290820e-03</td>\n",
       "      <td>2.514687e-06</td>\n",
       "    </tr>\n",
       "    <tr>\n",
       "      <th>std</th>\n",
       "      <td>1.423320e+02</td>\n",
       "      <td>6.038582e+05</td>\n",
       "      <td>2.888243e+06</td>\n",
       "      <td>2.924049e+06</td>\n",
       "      <td>3.399180e+06</td>\n",
       "      <td>3.674129e+06</td>\n",
       "      <td>3.590480e-02</td>\n",
       "      <td>1.585775e-03</td>\n",
       "    </tr>\n",
       "    <tr>\n",
       "      <th>min</th>\n",
       "      <td>1.000000e+00</td>\n",
       "      <td>0.000000e+00</td>\n",
       "      <td>0.000000e+00</td>\n",
       "      <td>0.000000e+00</td>\n",
       "      <td>0.000000e+00</td>\n",
       "      <td>0.000000e+00</td>\n",
       "      <td>0.000000e+00</td>\n",
       "      <td>0.000000e+00</td>\n",
       "    </tr>\n",
       "    <tr>\n",
       "      <th>25%</th>\n",
       "      <td>1.560000e+02</td>\n",
       "      <td>1.338957e+04</td>\n",
       "      <td>0.000000e+00</td>\n",
       "      <td>0.000000e+00</td>\n",
       "      <td>0.000000e+00</td>\n",
       "      <td>0.000000e+00</td>\n",
       "      <td>0.000000e+00</td>\n",
       "      <td>0.000000e+00</td>\n",
       "    </tr>\n",
       "    <tr>\n",
       "      <th>50%</th>\n",
       "      <td>2.390000e+02</td>\n",
       "      <td>7.487194e+04</td>\n",
       "      <td>1.420800e+04</td>\n",
       "      <td>0.000000e+00</td>\n",
       "      <td>1.327057e+05</td>\n",
       "      <td>2.146614e+05</td>\n",
       "      <td>0.000000e+00</td>\n",
       "      <td>0.000000e+00</td>\n",
       "    </tr>\n",
       "    <tr>\n",
       "      <th>75%</th>\n",
       "      <td>3.350000e+02</td>\n",
       "      <td>2.087215e+05</td>\n",
       "      <td>1.073152e+05</td>\n",
       "      <td>1.442584e+05</td>\n",
       "      <td>9.430367e+05</td>\n",
       "      <td>1.111909e+06</td>\n",
       "      <td>0.000000e+00</td>\n",
       "      <td>0.000000e+00</td>\n",
       "    </tr>\n",
       "    <tr>\n",
       "      <th>max</th>\n",
       "      <td>7.430000e+02</td>\n",
       "      <td>9.244552e+07</td>\n",
       "      <td>5.958504e+07</td>\n",
       "      <td>4.958504e+07</td>\n",
       "      <td>3.560159e+08</td>\n",
       "      <td>3.561793e+08</td>\n",
       "      <td>1.000000e+00</td>\n",
       "      <td>1.000000e+00</td>\n",
       "    </tr>\n",
       "  </tbody>\n",
       "</table>\n",
       "</div>"
      ],
      "text/plain": [
       "               step        amount  oldbalanceOrg  newbalanceOrig  \\\n",
       "count  6.362620e+06  6.362620e+06   6.362620e+06    6.362620e+06   \n",
       "mean   2.433972e+02  1.798619e+05   8.338831e+05    8.551137e+05   \n",
       "std    1.423320e+02  6.038582e+05   2.888243e+06    2.924049e+06   \n",
       "min    1.000000e+00  0.000000e+00   0.000000e+00    0.000000e+00   \n",
       "25%    1.560000e+02  1.338957e+04   0.000000e+00    0.000000e+00   \n",
       "50%    2.390000e+02  7.487194e+04   1.420800e+04    0.000000e+00   \n",
       "75%    3.350000e+02  2.087215e+05   1.073152e+05    1.442584e+05   \n",
       "max    7.430000e+02  9.244552e+07   5.958504e+07    4.958504e+07   \n",
       "\n",
       "       oldbalanceDest  newbalanceDest       isFraud  isFlaggedFraud  \n",
       "count    6.362620e+06    6.362620e+06  6.362620e+06    6.362620e+06  \n",
       "mean     1.100702e+06    1.224996e+06  1.290820e-03    2.514687e-06  \n",
       "std      3.399180e+06    3.674129e+06  3.590480e-02    1.585775e-03  \n",
       "min      0.000000e+00    0.000000e+00  0.000000e+00    0.000000e+00  \n",
       "25%      0.000000e+00    0.000000e+00  0.000000e+00    0.000000e+00  \n",
       "50%      1.327057e+05    2.146614e+05  0.000000e+00    0.000000e+00  \n",
       "75%      9.430367e+05    1.111909e+06  0.000000e+00    0.000000e+00  \n",
       "max      3.560159e+08    3.561793e+08  1.000000e+00    1.000000e+00  "
      ]
     },
     "execution_count": 4,
     "metadata": {},
     "output_type": "execute_result"
    }
   ],
   "source": [
    "data.describe()"
   ]
  },
  {
   "cell_type": "markdown",
   "id": "76d75eda",
   "metadata": {
    "papermill": {
     "duration": 0.048583,
     "end_time": "2022-07-23T18:19:34.877533",
     "exception": false,
     "start_time": "2022-07-23T18:19:34.828950",
     "status": "completed"
    },
    "tags": []
   },
   "source": [
    "### Checking the number of records and feautres present in the data"
   ]
  },
  {
   "cell_type": "code",
   "execution_count": 5,
   "id": "3036be6c",
   "metadata": {
    "ExecuteTime": {
     "end_time": "2022-07-23T14:01:18.270935Z",
     "start_time": "2022-07-23T14:01:18.254935Z"
    },
    "execution": {
     "iopub.execute_input": "2022-07-23T18:19:34.977903Z",
     "iopub.status.busy": "2022-07-23T18:19:34.977113Z",
     "iopub.status.idle": "2022-07-23T18:19:34.979873Z",
     "shell.execute_reply": "2022-07-23T18:19:34.980505Z",
     "shell.execute_reply.started": "2022-07-23T18:05:07.708795Z"
    },
    "papermill": {
     "duration": 0.055367,
     "end_time": "2022-07-23T18:19:34.980677",
     "exception": false,
     "start_time": "2022-07-23T18:19:34.925310",
     "status": "completed"
    },
    "tags": []
   },
   "outputs": [
    {
     "name": "stdout",
     "output_type": "stream",
     "text": [
      "Number of records: 6362620\n"
     ]
    }
   ],
   "source": [
    "print(\"Number of records:\",data.shape[0])\n"
   ]
  },
  {
   "cell_type": "code",
   "execution_count": 6,
   "id": "1c3342ae",
   "metadata": {
    "ExecuteTime": {
     "end_time": "2022-07-23T14:01:18.282955Z",
     "start_time": "2022-07-23T14:01:18.270935Z"
    },
    "execution": {
     "iopub.execute_input": "2022-07-23T18:19:35.106294Z",
     "iopub.status.busy": "2022-07-23T18:19:35.105300Z",
     "iopub.status.idle": "2022-07-23T18:19:35.110848Z",
     "shell.execute_reply": "2022-07-23T18:19:35.111318Z",
     "shell.execute_reply.started": "2022-07-23T18:05:07.716541Z"
    },
    "papermill": {
     "duration": 0.078208,
     "end_time": "2022-07-23T18:19:35.111520",
     "exception": false,
     "start_time": "2022-07-23T18:19:35.033312",
     "status": "completed"
    },
    "tags": []
   },
   "outputs": [
    {
     "name": "stdout",
     "output_type": "stream",
     "text": [
      "Number of features: 10\n"
     ]
    }
   ],
   "source": [
    "print(\"Number of features:\",data.shape[1]-1) #exclude with 1 because one column is our target"
   ]
  },
  {
   "cell_type": "code",
   "execution_count": 7,
   "id": "174b9b1b",
   "metadata": {
    "ExecuteTime": {
     "end_time": "2022-07-23T14:01:18.618953Z",
     "start_time": "2022-07-23T14:01:18.286935Z"
    },
    "execution": {
     "iopub.execute_input": "2022-07-23T18:19:35.217327Z",
     "iopub.status.busy": "2022-07-23T18:19:35.216690Z",
     "iopub.status.idle": "2022-07-23T18:19:35.333120Z",
     "shell.execute_reply": "2022-07-23T18:19:35.334048Z",
     "shell.execute_reply.started": "2022-07-23T18:05:07.729500Z"
    },
    "papermill": {
     "duration": 0.168224,
     "end_time": "2022-07-23T18:19:35.334308",
     "exception": false,
     "start_time": "2022-07-23T18:19:35.166084",
     "status": "completed"
    },
    "tags": []
   },
   "outputs": [
    {
     "name": "stdout",
     "output_type": "stream",
     "text": [
      "Number of frauds:  8213\n",
      "Number of non-frauds:  6354407\n",
      "Percentage of fradulent data: 0.12908204481801522\n"
     ]
    }
   ],
   "source": [
    "nonfrauds, frauds = data.groupby('isFraud').size()\n",
    "print('Number of frauds: ', frauds)\n",
    "print('Number of non-frauds: ', nonfrauds)\n",
    "print('Percentage of fradulent data:', 100.*frauds/(frauds + nonfrauds))"
   ]
  },
  {
   "cell_type": "code",
   "execution_count": 8,
   "id": "6efef399",
   "metadata": {
    "ExecuteTime": {
     "end_time": "2022-07-23T14:01:19.218943Z",
     "start_time": "2022-07-23T14:01:18.618953Z"
    },
    "execution": {
     "iopub.execute_input": "2022-07-23T18:19:35.435694Z",
     "iopub.status.busy": "2022-07-23T18:19:35.435020Z",
     "iopub.status.idle": "2022-07-23T18:19:35.779407Z",
     "shell.execute_reply": "2022-07-23T18:19:35.778789Z",
     "shell.execute_reply.started": "2022-07-23T18:05:07.883274Z"
    },
    "papermill": {
     "duration": 0.395619,
     "end_time": "2022-07-23T18:19:35.779551",
     "exception": false,
     "start_time": "2022-07-23T18:19:35.383932",
     "status": "completed"
    },
    "tags": []
   },
   "outputs": [],
   "source": [
    "#splitting the target and features\n",
    "feature = data.drop([\"isFraud\"],axis = 1)\n",
    "target = data.isFraud"
   ]
  },
  {
   "cell_type": "markdown",
   "id": "0eb8a41a",
   "metadata": {
    "papermill": {
     "duration": 0.048,
     "end_time": "2022-07-23T18:19:35.875952",
     "exception": false,
     "start_time": "2022-07-23T18:19:35.827952",
     "status": "completed"
    },
    "tags": []
   },
   "source": [
    "# **2. Data Wrangling**"
   ]
  },
  {
   "cell_type": "markdown",
   "id": "311df65c",
   "metadata": {
    "papermill": {
     "duration": 0.047812,
     "end_time": "2022-07-23T18:19:35.972151",
     "exception": false,
     "start_time": "2022-07-23T18:19:35.924339",
     "status": "completed"
    },
    "tags": []
   },
   "source": [
    "#### Removing unwanted data"
   ]
  },
  {
   "cell_type": "code",
   "execution_count": 9,
   "id": "0bdd89f1",
   "metadata": {
    "ExecuteTime": {
     "end_time": "2022-07-23T14:17:48.968954Z",
     "start_time": "2022-07-23T14:17:48.813512Z"
    },
    "execution": {
     "iopub.execute_input": "2022-07-23T18:19:36.073243Z",
     "iopub.status.busy": "2022-07-23T18:19:36.072457Z",
     "iopub.status.idle": "2022-07-23T18:19:36.337127Z",
     "shell.execute_reply": "2022-07-23T18:19:36.337639Z",
     "shell.execute_reply.started": "2022-07-23T18:05:08.266322Z"
    },
    "papermill": {
     "duration": 0.317586,
     "end_time": "2022-07-23T18:19:36.337827",
     "exception": false,
     "start_time": "2022-07-23T18:19:36.020241",
     "status": "completed"
    },
    "tags": []
   },
   "outputs": [],
   "source": [
    "feature.drop([\"nameOrig\",'nameDest'],axis = 1, inplace = True)"
   ]
  },
  {
   "cell_type": "code",
   "execution_count": 10,
   "id": "d27fddbd",
   "metadata": {
    "ExecuteTime": {
     "end_time": "2022-07-23T14:01:19.669280Z",
     "start_time": "2022-07-23T14:01:19.222935Z"
    },
    "execution": {
     "iopub.execute_input": "2022-07-23T18:19:36.520176Z",
     "iopub.status.busy": "2022-07-23T18:19:36.436904Z",
     "iopub.status.idle": "2022-07-23T18:19:36.633959Z",
     "shell.execute_reply": "2022-07-23T18:19:36.633375Z",
     "shell.execute_reply.started": "2022-07-23T18:05:08.562940Z"
    },
    "papermill": {
     "duration": 0.247813,
     "end_time": "2022-07-23T18:19:36.634113",
     "exception": false,
     "start_time": "2022-07-23T18:19:36.386300",
     "status": "completed"
    },
    "tags": []
   },
   "outputs": [],
   "source": [
    "data.drop([\"nameOrig\",'nameDest'],axis = 1, inplace = True)"
   ]
  },
  {
   "cell_type": "markdown",
   "id": "faf87460",
   "metadata": {
    "papermill": {
     "duration": 0.048464,
     "end_time": "2022-07-23T18:19:36.730732",
     "exception": false,
     "start_time": "2022-07-23T18:19:36.682268",
     "status": "completed"
    },
    "tags": []
   },
   "source": [
    "#### Dealing with missing values"
   ]
  },
  {
   "cell_type": "code",
   "execution_count": 11,
   "id": "27d89209",
   "metadata": {
    "ExecuteTime": {
     "end_time": "2022-07-23T14:01:19.701279Z",
     "start_time": "2022-07-23T14:01:19.673280Z"
    },
    "execution": {
     "iopub.execute_input": "2022-07-23T18:19:36.833901Z",
     "iopub.status.busy": "2022-07-23T18:19:36.833146Z",
     "iopub.status.idle": "2022-07-23T18:19:36.835028Z",
     "shell.execute_reply": "2022-07-23T18:19:36.835553Z",
     "shell.execute_reply.started": "2022-07-23T18:05:08.786278Z"
    },
    "papermill": {
     "duration": 0.057142,
     "end_time": "2022-07-23T18:19:36.835723",
     "exception": false,
     "start_time": "2022-07-23T18:19:36.778581",
     "status": "completed"
    },
    "tags": []
   },
   "outputs": [],
   "source": [
    "def null_value(df):\n",
    "    percentage = ((df.isna().sum()/df.isna().count())*100).sort_values(ascending = True)\n",
    "    count = (df.isna().sum()).sort_values(ascending = True)\n",
    "    diff = pd.concat([count,percentage],axis = 1, keys=[\"Count\",\"Percentage\"])\n",
    "    return diff"
   ]
  },
  {
   "cell_type": "code",
   "execution_count": 12,
   "id": "74ab2366",
   "metadata": {
    "ExecuteTime": {
     "end_time": "2022-07-23T14:01:22.878637Z",
     "start_time": "2022-07-23T14:01:19.705287Z"
    },
    "execution": {
     "iopub.execute_input": "2022-07-23T18:19:36.937953Z",
     "iopub.status.busy": "2022-07-23T18:19:36.937265Z",
     "iopub.status.idle": "2022-07-23T18:19:39.289533Z",
     "shell.execute_reply": "2022-07-23T18:19:39.290029Z",
     "shell.execute_reply.started": "2022-07-23T18:05:08.793230Z"
    },
    "papermill": {
     "duration": 2.404773,
     "end_time": "2022-07-23T18:19:39.290203",
     "exception": false,
     "start_time": "2022-07-23T18:19:36.885430",
     "status": "completed"
    },
    "tags": []
   },
   "outputs": [
    {
     "data": {
      "text/html": [
       "<div>\n",
       "<style scoped>\n",
       "    .dataframe tbody tr th:only-of-type {\n",
       "        vertical-align: middle;\n",
       "    }\n",
       "\n",
       "    .dataframe tbody tr th {\n",
       "        vertical-align: top;\n",
       "    }\n",
       "\n",
       "    .dataframe thead th {\n",
       "        text-align: right;\n",
       "    }\n",
       "</style>\n",
       "<table border=\"1\" class=\"dataframe\">\n",
       "  <thead>\n",
       "    <tr style=\"text-align: right;\">\n",
       "      <th></th>\n",
       "      <th>Count</th>\n",
       "      <th>Percentage</th>\n",
       "    </tr>\n",
       "  </thead>\n",
       "  <tbody>\n",
       "    <tr>\n",
       "      <th>step</th>\n",
       "      <td>0</td>\n",
       "      <td>0.0</td>\n",
       "    </tr>\n",
       "    <tr>\n",
       "      <th>type</th>\n",
       "      <td>0</td>\n",
       "      <td>0.0</td>\n",
       "    </tr>\n",
       "    <tr>\n",
       "      <th>amount</th>\n",
       "      <td>0</td>\n",
       "      <td>0.0</td>\n",
       "    </tr>\n",
       "    <tr>\n",
       "      <th>oldbalanceOrg</th>\n",
       "      <td>0</td>\n",
       "      <td>0.0</td>\n",
       "    </tr>\n",
       "    <tr>\n",
       "      <th>newbalanceOrig</th>\n",
       "      <td>0</td>\n",
       "      <td>0.0</td>\n",
       "    </tr>\n",
       "    <tr>\n",
       "      <th>oldbalanceDest</th>\n",
       "      <td>0</td>\n",
       "      <td>0.0</td>\n",
       "    </tr>\n",
       "    <tr>\n",
       "      <th>newbalanceDest</th>\n",
       "      <td>0</td>\n",
       "      <td>0.0</td>\n",
       "    </tr>\n",
       "    <tr>\n",
       "      <th>isFlaggedFraud</th>\n",
       "      <td>0</td>\n",
       "      <td>0.0</td>\n",
       "    </tr>\n",
       "  </tbody>\n",
       "</table>\n",
       "</div>"
      ],
      "text/plain": [
       "                Count  Percentage\n",
       "step                0         0.0\n",
       "type                0         0.0\n",
       "amount              0         0.0\n",
       "oldbalanceOrg       0         0.0\n",
       "newbalanceOrig      0         0.0\n",
       "oldbalanceDest      0         0.0\n",
       "newbalanceDest      0         0.0\n",
       "isFlaggedFraud      0         0.0"
      ]
     },
     "execution_count": 12,
     "metadata": {},
     "output_type": "execute_result"
    }
   ],
   "source": [
    "null_value(feature)"
   ]
  },
  {
   "cell_type": "markdown",
   "id": "771c35f5",
   "metadata": {
    "papermill": {
     "duration": 0.048694,
     "end_time": "2022-07-23T18:19:39.387776",
     "exception": false,
     "start_time": "2022-07-23T18:19:39.339082",
     "status": "completed"
    },
    "tags": []
   },
   "source": [
    "From the above calculation we can see that there is np null values."
   ]
  },
  {
   "cell_type": "markdown",
   "id": "1beec30f",
   "metadata": {
    "papermill": {
     "duration": 0.049286,
     "end_time": "2022-07-23T18:19:39.485807",
     "exception": false,
     "start_time": "2022-07-23T18:19:39.436521",
     "status": "completed"
    },
    "tags": []
   },
   "source": [
    "#### Data Formatting"
   ]
  },
  {
   "cell_type": "code",
   "execution_count": 13,
   "id": "796a4270",
   "metadata": {
    "ExecuteTime": {
     "end_time": "2022-07-23T14:01:22.911054Z",
     "start_time": "2022-07-23T14:01:22.878637Z"
    },
    "execution": {
     "iopub.execute_input": "2022-07-23T18:19:39.586630Z",
     "iopub.status.busy": "2022-07-23T18:19:39.586013Z",
     "iopub.status.idle": "2022-07-23T18:19:39.599739Z",
     "shell.execute_reply": "2022-07-23T18:19:39.598934Z",
     "shell.execute_reply.started": "2022-07-23T18:05:09.971360Z"
    },
    "papermill": {
     "duration": 0.065204,
     "end_time": "2022-07-23T18:19:39.599930",
     "exception": false,
     "start_time": "2022-07-23T18:19:39.534726",
     "status": "completed"
    },
    "tags": []
   },
   "outputs": [
    {
     "name": "stdout",
     "output_type": "stream",
     "text": [
      "<class 'pandas.core.frame.DataFrame'>\n",
      "RangeIndex: 6362620 entries, 0 to 6362619\n",
      "Data columns (total 8 columns):\n",
      " #   Column          Dtype  \n",
      "---  ------          -----  \n",
      " 0   step            int64  \n",
      " 1   type            object \n",
      " 2   amount          float64\n",
      " 3   oldbalanceOrg   float64\n",
      " 4   newbalanceOrig  float64\n",
      " 5   oldbalanceDest  float64\n",
      " 6   newbalanceDest  float64\n",
      " 7   isFlaggedFraud  int64  \n",
      "dtypes: float64(5), int64(2), object(1)\n",
      "memory usage: 388.3+ MB\n"
     ]
    }
   ],
   "source": [
    "feature.info()"
   ]
  },
  {
   "cell_type": "code",
   "execution_count": 14,
   "id": "38e3327d",
   "metadata": {
    "ExecuteTime": {
     "end_time": "2022-07-23T14:01:22.943049Z",
     "start_time": "2022-07-23T14:01:22.915049Z"
    },
    "execution": {
     "iopub.execute_input": "2022-07-23T18:19:39.705537Z",
     "iopub.status.busy": "2022-07-23T18:19:39.704482Z",
     "iopub.status.idle": "2022-07-23T18:19:39.710142Z",
     "shell.execute_reply": "2022-07-23T18:19:39.709532Z",
     "shell.execute_reply.started": "2022-07-23T18:05:09.986308Z"
    },
    "papermill": {
     "duration": 0.059433,
     "end_time": "2022-07-23T18:19:39.710282",
     "exception": false,
     "start_time": "2022-07-23T18:19:39.650849",
     "status": "completed"
    },
    "tags": []
   },
   "outputs": [],
   "source": [
    "feature.rename(columns={\"oldbalanceOrg\": \"Initial_balance(customer)\",\n",
    "                        \"newbalanceOrig\":\"New_Balance(customer)\",\n",
    "                        \"oldbalanceDest\":\"Initial_balance(receiver)\",\"newbalanceDest\":\"New_Balance(receiver)\"},inplace = True)"
   ]
  },
  {
   "cell_type": "code",
   "execution_count": 15,
   "id": "eb936a40",
   "metadata": {
    "ExecuteTime": {
     "end_time": "2022-07-23T14:01:22.955049Z",
     "start_time": "2022-07-23T14:01:22.947050Z"
    },
    "execution": {
     "iopub.execute_input": "2022-07-23T18:19:39.814602Z",
     "iopub.status.busy": "2022-07-23T18:19:39.813626Z",
     "iopub.status.idle": "2022-07-23T18:19:39.816961Z",
     "shell.execute_reply": "2022-07-23T18:19:39.815872Z",
     "shell.execute_reply.started": "2022-07-23T18:05:10.000249Z"
    },
    "papermill": {
     "duration": 0.057789,
     "end_time": "2022-07-23T18:19:39.817103",
     "exception": false,
     "start_time": "2022-07-23T18:19:39.759314",
     "status": "completed"
    },
    "tags": []
   },
   "outputs": [],
   "source": [
    "data.rename(columns={\"oldbalanceOrg\": \"Initial_balance(customer)\",\n",
    "                        \"newbalanceOrig\":\"New_Balance(customer)\",\n",
    "                        \"oldbalanceDest\":\"Initial_balance(receiver)\",\"newbalanceDest\":\"New_Balance(receiver)\"},inplace = True)"
   ]
  },
  {
   "cell_type": "code",
   "execution_count": null,
   "id": "05db5be3",
   "metadata": {
    "papermill": {
     "duration": 0.049624,
     "end_time": "2022-07-23T18:19:39.915605",
     "exception": false,
     "start_time": "2022-07-23T18:19:39.865981",
     "status": "completed"
    },
    "tags": []
   },
   "outputs": [],
   "source": []
  },
  {
   "cell_type": "markdown",
   "id": "66393275",
   "metadata": {
    "papermill": {
     "duration": 0.051616,
     "end_time": "2022-07-23T18:19:40.016905",
     "exception": false,
     "start_time": "2022-07-23T18:19:39.965289",
     "status": "completed"
    },
    "tags": []
   },
   "source": [
    "# **3. Exploring Data Analysis**"
   ]
  },
  {
   "cell_type": "markdown",
   "id": "1d87693f",
   "metadata": {
    "papermill": {
     "duration": 0.048627,
     "end_time": "2022-07-23T18:19:40.114552",
     "exception": false,
     "start_time": "2022-07-23T18:19:40.065925",
     "status": "completed"
    },
    "tags": []
   },
   "source": [
    "#### Counting values of 0's and 1's from target "
   ]
  },
  {
   "cell_type": "code",
   "execution_count": 16,
   "id": "d3f7e988",
   "metadata": {
    "ExecuteTime": {
     "end_time": "2022-07-23T14:01:23.315049Z",
     "start_time": "2022-07-23T14:01:22.959049Z"
    },
    "execution": {
     "iopub.execute_input": "2022-07-23T18:19:40.253622Z",
     "iopub.status.busy": "2022-07-23T18:19:40.252777Z",
     "iopub.status.idle": "2022-07-23T18:19:40.518582Z",
     "shell.execute_reply": "2022-07-23T18:19:40.518038Z",
     "shell.execute_reply.started": "2022-07-23T18:05:10.015284Z"
    },
    "papermill": {
     "duration": 0.355425,
     "end_time": "2022-07-23T18:19:40.518730",
     "exception": false,
     "start_time": "2022-07-23T18:19:40.163305",
     "status": "completed"
    },
    "tags": []
   },
   "outputs": [
    {
     "data": {
      "text/plain": [
       "(0.0, 80000.0)"
      ]
     },
     "execution_count": 16,
     "metadata": {},
     "output_type": "execute_result"
    },
    {
     "data": {
      "image/png": "[encoded data removed]",
      "text/plain": [
       "<Figure size 720x504 with 1 Axes>"
      ]
     },
     "metadata": {
      "needs_background": "light"
     },
     "output_type": "display_data"
    }
   ],
   "source": [
    "dd = target.value_counts()\n",
    "dd.plot(kind = \"bar\",figsize = (10,7))\n",
    "plt.xlabel(\"isFraud\")\n",
    "plt.ylabel(\"Count\")\n",
    "plt.ylim(0,80000)"
   ]
  },
  {
   "cell_type": "markdown",
   "id": "8611d1f6",
   "metadata": {
    "papermill": {
     "duration": 0.049706,
     "end_time": "2022-07-23T18:19:40.618846",
     "exception": false,
     "start_time": "2022-07-23T18:19:40.569140",
     "status": "completed"
    },
    "tags": []
   },
   "source": [
    "Each record is classified as normal(class \"0\") or fraudulent(class \"1\") and the transaction are heavily skewed towards normal. <br> The dataset is highly unbalance, where the positivr class(fraud) aacount for 0.12% of all transactions.\n"
   ]
  },
  {
   "cell_type": "markdown",
   "id": "0adbe70f",
   "metadata": {
    "papermill": {
     "duration": 0.050256,
     "end_time": "2022-07-23T18:19:40.719028",
     "exception": false,
     "start_time": "2022-07-23T18:19:40.668772",
     "status": "completed"
    },
    "tags": []
   },
   "source": [
    "#### Analysing in how many processes(i.e. type) the fraudulent agents trying to empty the balance"
   ]
  },
  {
   "cell_type": "code",
   "execution_count": 17,
   "id": "c09b58eb",
   "metadata": {
    "ExecuteTime": {
     "end_time": "2022-07-23T14:01:23.371056Z",
     "start_time": "2022-07-23T14:01:23.315049Z"
    },
    "execution": {
     "iopub.execute_input": "2022-07-23T18:19:40.825026Z",
     "iopub.status.busy": "2022-07-23T18:19:40.823991Z",
     "iopub.status.idle": "2022-07-23T18:19:40.862591Z",
     "shell.execute_reply": "2022-07-23T18:19:40.863037Z",
     "shell.execute_reply.started": "2022-07-23T18:05:10.308185Z"
    },
    "papermill": {
     "duration": 0.092386,
     "end_time": "2022-07-23T18:19:40.863208",
     "exception": false,
     "start_time": "2022-07-23T18:19:40.770822",
     "status": "completed"
    },
    "tags": []
   },
   "outputs": [
    {
     "data": {
      "text/html": [
       "<div>\n",
       "<style scoped>\n",
       "    .dataframe tbody tr th:only-of-type {\n",
       "        vertical-align: middle;\n",
       "    }\n",
       "\n",
       "    .dataframe tbody tr th {\n",
       "        vertical-align: top;\n",
       "    }\n",
       "\n",
       "    .dataframe thead th {\n",
       "        text-align: right;\n",
       "    }\n",
       "</style>\n",
       "<table border=\"1\" class=\"dataframe\">\n",
       "  <thead>\n",
       "    <tr style=\"text-align: right;\">\n",
       "      <th></th>\n",
       "      <th>isFraud</th>\n",
       "    </tr>\n",
       "    <tr>\n",
       "      <th>type</th>\n",
       "      <th></th>\n",
       "    </tr>\n",
       "  </thead>\n",
       "  <tbody>\n",
       "    <tr>\n",
       "      <th>CASH_OUT</th>\n",
       "      <td>4116</td>\n",
       "    </tr>\n",
       "    <tr>\n",
       "      <th>TRANSFER</th>\n",
       "      <td>4097</td>\n",
       "    </tr>\n",
       "  </tbody>\n",
       "</table>\n",
       "</div>"
      ],
      "text/plain": [
       "          isFraud\n",
       "type             \n",
       "CASH_OUT     4116\n",
       "TRANSFER     4097"
      ]
     },
     "execution_count": 17,
     "metadata": {},
     "output_type": "execute_result"
    }
   ],
   "source": [
    "fraud = data[data[\"isFraud\"] == 1]\n",
    "fraud.groupby(by = \"type\").aggregate({\"isFraud\":len})"
   ]
  },
  {
   "cell_type": "markdown",
   "id": "52912952",
   "metadata": {
    "papermill": {
     "duration": 0.050505,
     "end_time": "2022-07-23T18:19:40.965464",
     "exception": false,
     "start_time": "2022-07-23T18:19:40.914959",
     "status": "completed"
    },
    "tags": []
   },
   "source": [
    "Above output insure that the fraud only happen during the *Cash out* and *transfer*"
   ]
  },
  {
   "cell_type": "markdown",
   "id": "256daf99",
   "metadata": {
    "papermill": {
     "duration": 0.05409,
     "end_time": "2022-07-23T18:19:41.071873",
     "exception": false,
     "start_time": "2022-07-23T18:19:41.017783",
     "status": "completed"
    },
    "tags": []
   },
   "source": [
    "So from this conclusion we can say that, there would never be any fraud during other process(PAYMENT,DEBIT,CASH_IN). <br>\n",
    "**Note:This is conclude from the current data, there can be exception in further detection **"
   ]
  },
  {
   "cell_type": "code",
   "execution_count": 18,
   "id": "1a1468d5",
   "metadata": {
    "ExecuteTime": {
     "end_time": "2022-07-23T14:01:28.486115Z",
     "start_time": "2022-07-23T14:01:23.375050Z"
    },
    "execution": {
     "iopub.execute_input": "2022-07-23T18:19:41.176840Z",
     "iopub.status.busy": "2022-07-23T18:19:41.175851Z",
     "iopub.status.idle": "2022-07-23T18:19:46.657397Z",
     "shell.execute_reply": "2022-07-23T18:19:46.656583Z",
     "shell.execute_reply.started": "2022-07-23T18:05:10.345421Z"
    },
    "papermill": {
     "duration": 5.535154,
     "end_time": "2022-07-23T18:19:46.657540",
     "exception": false,
     "start_time": "2022-07-23T18:19:41.122386",
     "status": "completed"
    },
    "tags": []
   },
   "outputs": [],
   "source": [
    "#removing other type which is not useful\n",
    "feature.drop(feature[feature[\"type\"] == \"PAYMENT\"].index,inplace = True)\n",
    "feature.drop(feature[feature[\"type\"] == \"DEBIT\"].index,inplace = True)\n",
    "feature.drop(feature[feature[\"type\"] == \"CASH_IN\"].index,inplace = True)"
   ]
  },
  {
   "cell_type": "code",
   "execution_count": 19,
   "id": "38fc11fd",
   "metadata": {
    "ExecuteTime": {
     "end_time": "2022-07-23T14:01:28.505272Z",
     "start_time": "2022-07-23T14:01:28.486115Z"
    },
    "execution": {
     "iopub.execute_input": "2022-07-23T18:19:46.762412Z",
     "iopub.status.busy": "2022-07-23T18:19:46.761699Z",
     "iopub.status.idle": "2022-07-23T18:19:46.766925Z",
     "shell.execute_reply": "2022-07-23T18:19:46.767373Z",
     "shell.execute_reply.started": "2022-07-23T18:05:14.313618Z"
    },
    "papermill": {
     "duration": 0.059625,
     "end_time": "2022-07-23T18:19:46.767541",
     "exception": false,
     "start_time": "2022-07-23T18:19:46.707916",
     "status": "completed"
    },
    "tags": []
   },
   "outputs": [
    {
     "name": "stdout",
     "output_type": "stream",
     "text": [
      "Records after removing types record: 3592211\n"
     ]
    }
   ],
   "source": [
    "print(\"Records after removing types record:\",data.shape[0] - feature.shape[0])"
   ]
  },
  {
   "cell_type": "code",
   "execution_count": 20,
   "id": "cf9e6bb9",
   "metadata": {
    "ExecuteTime": {
     "end_time": "2022-07-23T14:01:32.397419Z",
     "start_time": "2022-07-23T14:01:28.509241Z"
    },
    "execution": {
     "iopub.execute_input": "2022-07-23T18:19:46.873400Z",
     "iopub.status.busy": "2022-07-23T18:19:46.872778Z",
     "iopub.status.idle": "2022-07-23T18:19:52.417231Z",
     "shell.execute_reply": "2022-07-23T18:19:52.417793Z",
     "shell.execute_reply.started": "2022-07-23T18:05:14.323862Z"
    },
    "papermill": {
     "duration": 5.599386,
     "end_time": "2022-07-23T18:19:52.418003",
     "exception": false,
     "start_time": "2022-07-23T18:19:46.818617",
     "status": "completed"
    },
    "tags": []
   },
   "outputs": [],
   "source": [
    "#same process from the main data\n",
    "data.drop(data[data[\"type\"] == \"PAYMENT\"].index,inplace = True)\n",
    "data.drop(data[data[\"type\"] == \"DEBIT\"].index,inplace = True)\n",
    "data.drop(data[data[\"type\"] == \"CASH_IN\"].index,inplace = True)"
   ]
  },
  {
   "cell_type": "markdown",
   "id": "f692d92d",
   "metadata": {
    "papermill": {
     "duration": 0.050893,
     "end_time": "2022-07-23T18:19:52.521478",
     "exception": false,
     "start_time": "2022-07-23T18:19:52.470585",
     "status": "completed"
    },
    "tags": []
   },
   "source": [
    "#### Outlier detection and treatment"
   ]
  },
  {
   "cell_type": "code",
   "execution_count": 21,
   "id": "1235e839",
   "metadata": {
    "ExecuteTime": {
     "end_time": "2022-07-23T14:18:07.848021Z",
     "start_time": "2022-07-23T14:18:07.739241Z"
    },
    "execution": {
     "iopub.execute_input": "2022-07-23T18:19:52.677583Z",
     "iopub.status.busy": "2022-07-23T18:19:52.676738Z",
     "iopub.status.idle": "2022-07-23T18:19:52.679776Z",
     "shell.execute_reply": "2022-07-23T18:19:52.679081Z",
     "shell.execute_reply.started": "2022-07-23T18:05:18.395404Z"
    },
    "papermill": {
     "duration": 0.107083,
     "end_time": "2022-07-23T18:19:52.679924",
     "exception": false,
     "start_time": "2022-07-23T18:19:52.572841",
     "status": "completed"
    },
    "tags": []
   },
   "outputs": [],
   "source": [
    "feature_cat = feature[\"type\"]\n",
    "feature_num = feature.drop(\"type\",axis = 1)"
   ]
  },
  {
   "cell_type": "code",
   "execution_count": 22,
   "id": "5fb54b9a",
   "metadata": {
    "ExecuteTime": {
     "end_time": "2022-07-23T14:18:53.604991Z",
     "start_time": "2022-07-23T14:18:53.586966Z"
    },
    "execution": {
     "iopub.execute_input": "2022-07-23T18:19:52.790147Z",
     "iopub.status.busy": "2022-07-23T18:19:52.789089Z",
     "iopub.status.idle": "2022-07-23T18:19:52.792060Z",
     "shell.execute_reply": "2022-07-23T18:19:52.791501Z",
     "shell.execute_reply.started": "2022-07-23T18:05:18.466304Z"
    },
    "papermill": {
     "duration": 0.061578,
     "end_time": "2022-07-23T18:19:52.792199",
     "exception": false,
     "start_time": "2022-07-23T18:19:52.730621",
     "status": "completed"
    },
    "tags": []
   },
   "outputs": [],
   "source": [
    "def outlier(df,ft):\n",
    "    Q1 = df[ft].quantile(0.25)\n",
    "    Q3 = df[ft].quantile(0.75)\n",
    "    IQR = Q3 - Q1\n",
    "    lower_bound = Q1 - 1.5*IQR\n",
    "    upper_bound = Q3 + 1.5*IQR\n",
    "    \n",
    "    lst = df.index[(df[ft] < lower_bound) | (df[ft] > upper_bound)]\n",
    "    if len(lst) != 0:\n",
    "        print(\"Outlier detect\",col)\n",
    "    \n",
    "    mean = df[ft].mean()\n",
    "    for index in lst:\n",
    "        df[ft].loc[index] = mean\n",
    "    \n",
    "    return lst\n",
    "    "
   ]
  },
  {
   "cell_type": "code",
   "execution_count": 23,
   "id": "0f24e5b1",
   "metadata": {
    "ExecuteTime": {
     "end_time": "2022-07-23T15:04:10.893862Z",
     "start_time": "2022-07-23T14:18:56.539775Z"
    },
    "execution": {
     "iopub.execute_input": "2022-07-23T18:19:52.942208Z",
     "iopub.status.busy": "2022-07-23T18:19:52.899182Z",
     "iopub.status.idle": "2022-07-23T18:22:38.864196Z",
     "shell.execute_reply": "2022-07-23T18:22:38.864930Z",
     "shell.execute_reply.started": "2022-07-23T18:05:18.479431Z"
    },
    "papermill": {
     "duration": 166.020968,
     "end_time": "2022-07-23T18:22:38.865175",
     "exception": false,
     "start_time": "2022-07-23T18:19:52.844207",
     "status": "completed"
    },
    "tags": []
   },
   "outputs": [
    {
     "name": "stdout",
     "output_type": "stream",
     "text": [
      "Outlier detect amount\n",
      "Outlier detect Initial_balance(customer)\n",
      "Outlier detect New_Balance(customer)\n",
      "Outlier detect Initial_balance(receiver)\n",
      "Outlier detect New_Balance(receiver)\n",
      "Treatment completed\n"
     ]
    }
   ],
   "source": [
    "feature_num = feature_num.iloc[:,1:-1]\n",
    "indx_lst = []\n",
    "for col in feature_num.columns:\n",
    "    indx_lst.extend(outlier(feature_num, col))\n",
    "print(\"Treatment completed\")"
   ]
  },
  {
   "cell_type": "code",
   "execution_count": 24,
   "id": "b748b384",
   "metadata": {
    "ExecuteTime": {
     "end_time": "2022-07-22T18:34:31.747476Z",
     "start_time": "2022-07-22T18:34:31.690621Z"
    },
    "execution": {
     "iopub.execute_input": "2022-07-23T18:22:39.091930Z",
     "iopub.status.busy": "2022-07-23T18:22:39.091163Z",
     "iopub.status.idle": "2022-07-23T18:22:39.095741Z",
     "shell.execute_reply": "2022-07-23T18:22:39.095124Z",
     "shell.execute_reply.started": "2022-07-23T18:08:09.837392Z"
    },
    "papermill": {
     "duration": 0.175844,
     "end_time": "2022-07-23T18:22:39.095882",
     "exception": false,
     "start_time": "2022-07-23T18:22:38.920038",
     "status": "completed"
    },
    "tags": []
   },
   "outputs": [
    {
     "name": "stdout",
     "output_type": "stream",
     "text": [
      "Total outlier in the overall data(indexes): 856319\n"
     ]
    }
   ],
   "source": [
    "#outlier present in data(index)\n",
    "print(\"Total outlier in the overall data(indexes):\",len(set(indx_lst)))"
   ]
  },
  {
   "cell_type": "markdown",
   "id": "be74935e",
   "metadata": {
    "papermill": {
     "duration": 0.053577,
     "end_time": "2022-07-23T18:22:39.202793",
     "exception": false,
     "start_time": "2022-07-23T18:22:39.149216",
     "status": "completed"
    },
    "tags": []
   },
   "source": [
    "Updating the main data with outlier treat data"
   ]
  },
  {
   "cell_type": "code",
   "execution_count": 25,
   "id": "7d7878cf",
   "metadata": {
    "execution": {
     "iopub.execute_input": "2022-07-23T18:22:39.313205Z",
     "iopub.status.busy": "2022-07-23T18:22:39.312553Z",
     "iopub.status.idle": "2022-07-23T18:22:39.390665Z",
     "shell.execute_reply": "2022-07-23T18:22:39.391149Z",
     "shell.execute_reply.started": "2022-07-23T18:08:09.989868Z"
    },
    "papermill": {
     "duration": 0.135128,
     "end_time": "2022-07-23T18:22:39.391326",
     "exception": false,
     "start_time": "2022-07-23T18:22:39.256198",
     "status": "completed"
    },
    "tags": []
   },
   "outputs": [
    {
     "name": "stdout",
     "output_type": "stream",
     "text": [
      "Updated!\n"
     ]
    }
   ],
   "source": [
    "for col in feature_num.columns:\n",
    "    data[col] = feature_num[col]\n",
    "print(\"Updated!\")"
   ]
  },
  {
   "cell_type": "markdown",
   "id": "dc9df80d",
   "metadata": {
    "papermill": {
     "duration": 0.05328,
     "end_time": "2022-07-23T18:22:39.497939",
     "exception": false,
     "start_time": "2022-07-23T18:22:39.444659",
     "status": "completed"
    },
    "tags": []
   },
   "source": [
    "#### Correlation"
   ]
  },
  {
   "cell_type": "code",
   "execution_count": 26,
   "id": "36e0bd6c",
   "metadata": {
    "ExecuteTime": {
     "end_time": "2022-07-23T15:12:11.237490Z",
     "start_time": "2022-07-23T15:12:10.529910Z"
    },
    "execution": {
     "iopub.execute_input": "2022-07-23T18:22:39.609566Z",
     "iopub.status.busy": "2022-07-23T18:22:39.608938Z",
     "iopub.status.idle": "2022-07-23T18:22:40.694466Z",
     "shell.execute_reply": "2022-07-23T18:22:40.694987Z",
     "shell.execute_reply.started": "2022-07-23T18:08:10.078269Z"
    },
    "papermill": {
     "duration": 1.142718,
     "end_time": "2022-07-23T18:22:40.695156",
     "exception": false,
     "start_time": "2022-07-23T18:22:39.552438",
     "status": "completed"
    },
    "tags": []
   },
   "outputs": [
    {
     "data": {
      "image/png": "[encoded data removed]",
      "text/plain": [
       "<Figure size 1080x504 with 2 Axes>"
      ]
     },
     "metadata": {
      "needs_background": "light"
     },
     "output_type": "display_data"
    }
   ],
   "source": [
    "plt.figure(figsize = (15,7))\n",
    "sns.heatmap(feature.corr(),annot = True)\n",
    "plt.show()"
   ]
  },
  {
   "cell_type": "markdown",
   "id": "842417cd",
   "metadata": {
    "ExecuteTime": {
     "end_time": "2022-07-23T14:14:09.469625Z",
     "start_time": "2022-07-23T14:14:09.469625Z"
    },
    "papermill": {
     "duration": 0.056163,
     "end_time": "2022-07-23T18:22:40.806886",
     "exception": false,
     "start_time": "2022-07-23T18:22:40.750723",
     "status": "completed"
    },
    "tags": []
   },
   "source": [
    "# **4. Model Developement**"
   ]
  },
  {
   "cell_type": "markdown",
   "id": "a0fffd8f",
   "metadata": {
    "papermill": {
     "duration": 0.055339,
     "end_time": "2022-07-23T18:22:40.918026",
     "exception": false,
     "start_time": "2022-07-23T18:22:40.862687",
     "status": "completed"
    },
    "tags": []
   },
   "source": [
    "#### Label Encoding"
   ]
  },
  {
   "cell_type": "code",
   "execution_count": 27,
   "id": "4ea340b1",
   "metadata": {
    "ExecuteTime": {
     "end_time": "2022-07-23T15:13:22.238537Z",
     "start_time": "2022-07-23T15:13:22.222578Z"
    },
    "execution": {
     "iopub.execute_input": "2022-07-23T18:22:41.038040Z",
     "iopub.status.busy": "2022-07-23T18:22:41.037021Z",
     "iopub.status.idle": "2022-07-23T18:22:42.697726Z",
     "shell.execute_reply": "2022-07-23T18:22:42.698191Z",
     "shell.execute_reply.started": "2022-07-23T18:08:11.207794Z"
    },
    "papermill": {
     "duration": 1.724333,
     "end_time": "2022-07-23T18:22:42.698392",
     "exception": false,
     "start_time": "2022-07-23T18:22:40.974059",
     "status": "completed"
    },
    "tags": []
   },
   "outputs": [
    {
     "name": "stdout",
     "output_type": "stream",
     "text": [
      "Encoded!\n"
     ]
    }
   ],
   "source": [
    "data[\"type\"].replace({\"CASH_OUT\":0,\"TRANSFER\": 1},inplace = True)\n",
    "print(\"Encoded!\")\n"
   ]
  },
  {
   "cell_type": "markdown",
   "id": "1552ccc7",
   "metadata": {
    "papermill": {
     "duration": 0.055451,
     "end_time": "2022-07-23T18:22:42.810073",
     "exception": false,
     "start_time": "2022-07-23T18:22:42.754622",
     "status": "completed"
    },
    "tags": []
   },
   "source": [
    "#### Dealing with Unbalance data"
   ]
  },
  {
   "cell_type": "markdown",
   "id": "c4a4b3bd",
   "metadata": {
    "papermill": {
     "duration": 0.055266,
     "end_time": "2022-07-23T18:22:42.921133",
     "exception": false,
     "start_time": "2022-07-23T18:22:42.865867",
     "status": "completed"
    },
    "tags": []
   },
   "source": [
    "Using Undersampling(Random sampleer):we reduce the number of samples from the majority class to match the number of samples in the minority class."
   ]
  },
  {
   "cell_type": "code",
   "execution_count": 28,
   "id": "5151d6eb",
   "metadata": {
    "ExecuteTime": {
     "end_time": "2022-07-23T15:24:27.548025Z",
     "start_time": "2022-07-23T15:24:27.524103Z"
    },
    "execution": {
     "iopub.execute_input": "2022-07-23T18:22:43.037291Z",
     "iopub.status.busy": "2022-07-23T18:22:43.036628Z",
     "iopub.status.idle": "2022-07-23T18:22:43.696722Z",
     "shell.execute_reply": "2022-07-23T18:22:43.697267Z",
     "shell.execute_reply.started": "2022-07-23T18:08:12.145325Z"
    },
    "papermill": {
     "duration": 0.718788,
     "end_time": "2022-07-23T18:22:43.697462",
     "exception": false,
     "start_time": "2022-07-23T18:22:42.978674",
     "status": "completed"
    },
    "tags": []
   },
   "outputs": [
    {
     "name": "stdout",
     "output_type": "stream",
     "text": [
      "loaded!\n"
     ]
    }
   ],
   "source": [
    "from imblearn import under_sampling\n",
    "from imblearn.over_sampling import SMOTE\n",
    "print(\"loaded!\")"
   ]
  },
  {
   "cell_type": "markdown",
   "id": "57136294",
   "metadata": {
    "papermill": {
     "duration": 0.055237,
     "end_time": "2022-07-23T18:22:43.809764",
     "exception": false,
     "start_time": "2022-07-23T18:22:43.754527",
     "status": "completed"
    },
    "tags": []
   },
   "source": [
    "Splitting data in features and target"
   ]
  },
  {
   "cell_type": "code",
   "execution_count": 29,
   "id": "d1a373b0",
   "metadata": {
    "execution": {
     "iopub.execute_input": "2022-07-23T18:22:43.926076Z",
     "iopub.status.busy": "2022-07-23T18:22:43.925402Z",
     "iopub.status.idle": "2022-07-23T18:22:44.042594Z",
     "shell.execute_reply": "2022-07-23T18:22:44.043087Z",
     "shell.execute_reply.started": "2022-07-23T18:08:12.155352Z"
    },
    "papermill": {
     "duration": 0.177294,
     "end_time": "2022-07-23T18:22:44.043274",
     "exception": false,
     "start_time": "2022-07-23T18:22:43.865980",
     "status": "completed"
    },
    "tags": []
   },
   "outputs": [],
   "source": [
    "X = data.drop([\"step\",\"isFraud\"],axis = 1)\n",
    "y = data.isFraud"
   ]
  },
  {
   "cell_type": "code",
   "execution_count": 30,
   "id": "16388446",
   "metadata": {
    "execution": {
     "iopub.execute_input": "2022-07-23T18:22:44.158836Z",
     "iopub.status.busy": "2022-07-23T18:22:44.158148Z",
     "iopub.status.idle": "2022-07-23T18:22:44.161486Z",
     "shell.execute_reply": "2022-07-23T18:22:44.162053Z",
     "shell.execute_reply.started": "2022-07-23T18:08:12.286626Z"
    },
    "papermill": {
     "duration": 0.063321,
     "end_time": "2022-07-23T18:22:44.162220",
     "exception": false,
     "start_time": "2022-07-23T18:22:44.098899",
     "status": "completed"
    },
    "tags": []
   },
   "outputs": [],
   "source": [
    "#under sampling object creation\n",
    "sm = SMOTE(random_state=42)"
   ]
  },
  {
   "cell_type": "code",
   "execution_count": 31,
   "id": "339dcd89",
   "metadata": {
    "execution": {
     "iopub.execute_input": "2022-07-23T18:22:44.277891Z",
     "iopub.status.busy": "2022-07-23T18:22:44.277271Z",
     "iopub.status.idle": "2022-07-23T18:22:45.785826Z",
     "shell.execute_reply": "2022-07-23T18:22:45.785135Z",
     "shell.execute_reply.started": "2022-07-23T18:08:12.293014Z"
    },
    "papermill": {
     "duration": 1.566802,
     "end_time": "2022-07-23T18:22:45.785970",
     "exception": false,
     "start_time": "2022-07-23T18:22:44.219168",
     "status": "completed"
    },
    "tags": []
   },
   "outputs": [],
   "source": [
    "X_res, y_res = sm.fit_resample(X, y)"
   ]
  },
  {
   "cell_type": "code",
   "execution_count": 32,
   "id": "f3780013",
   "metadata": {
    "execution": {
     "iopub.execute_input": "2022-07-23T18:22:46.867043Z",
     "iopub.status.busy": "2022-07-23T18:22:46.866319Z",
     "iopub.status.idle": "2022-07-23T18:22:46.869896Z",
     "shell.execute_reply": "2022-07-23T18:22:46.869272Z",
     "shell.execute_reply.started": "2022-07-23T18:08:13.863858Z"
    },
    "papermill": {
     "duration": 1.027276,
     "end_time": "2022-07-23T18:22:46.870035",
     "exception": false,
     "start_time": "2022-07-23T18:22:45.842759",
     "status": "completed"
    },
    "tags": []
   },
   "outputs": [
    {
     "name": "stdout",
     "output_type": "stream",
     "text": [
      "Resampled dataset shape Counter({1: 2762196, 0: 2762196})\n"
     ]
    }
   ],
   "source": [
    "print('Resampled dataset shape %s' % Counter(y_res))"
   ]
  },
  {
   "cell_type": "markdown",
   "id": "1454fb03",
   "metadata": {
    "papermill": {
     "duration": 0.056098,
     "end_time": "2022-07-23T18:22:46.983624",
     "exception": false,
     "start_time": "2022-07-23T18:22:46.927526",
     "status": "completed"
    },
    "tags": []
   },
   "source": [
    "#### Training and testing the data"
   ]
  },
  {
   "cell_type": "code",
   "execution_count": 33,
   "id": "61734b43",
   "metadata": {
    "execution": {
     "iopub.execute_input": "2022-07-23T18:22:47.101225Z",
     "iopub.status.busy": "2022-07-23T18:22:47.100255Z",
     "iopub.status.idle": "2022-07-23T18:22:47.101907Z",
     "shell.execute_reply": "2022-07-23T18:22:47.102509Z",
     "shell.execute_reply.started": "2022-07-23T18:08:14.650540Z"
    },
    "papermill": {
     "duration": 0.062621,
     "end_time": "2022-07-23T18:22:47.102686",
     "exception": false,
     "start_time": "2022-07-23T18:22:47.040065",
     "status": "completed"
    },
    "tags": []
   },
   "outputs": [],
   "source": [
    "#importing library\n",
    "from sklearn.model_selection import train_test_split"
   ]
  },
  {
   "cell_type": "code",
   "execution_count": 34,
   "id": "53e18a63",
   "metadata": {
    "execution": {
     "iopub.execute_input": "2022-07-23T18:22:47.280653Z",
     "iopub.status.busy": "2022-07-23T18:22:47.279976Z",
     "iopub.status.idle": "2022-07-23T18:22:48.707965Z",
     "shell.execute_reply": "2022-07-23T18:22:48.707400Z",
     "shell.execute_reply.started": "2022-07-23T18:08:14.660223Z"
    },
    "papermill": {
     "duration": 1.487462,
     "end_time": "2022-07-23T18:22:48.708117",
     "exception": false,
     "start_time": "2022-07-23T18:22:47.220655",
     "status": "completed"
    },
    "tags": []
   },
   "outputs": [],
   "source": [
    "X_train,X_test, y_train, y_test = train_test_split(X_res,y_res,train_size = 0.7)"
   ]
  },
  {
   "cell_type": "markdown",
   "id": "9f0e0a9c",
   "metadata": {
    "papermill": {
     "duration": 0.055934,
     "end_time": "2022-07-23T18:22:48.821952",
     "exception": false,
     "start_time": "2022-07-23T18:22:48.766018",
     "status": "completed"
    },
    "tags": []
   },
   "source": [
    "Importing algorithm"
   ]
  },
  {
   "cell_type": "code",
   "execution_count": 35,
   "id": "58856114",
   "metadata": {
    "execution": {
     "iopub.execute_input": "2022-07-23T18:22:48.939620Z",
     "iopub.status.busy": "2022-07-23T18:22:48.938959Z",
     "iopub.status.idle": "2022-07-23T18:22:48.943472Z",
     "shell.execute_reply": "2022-07-23T18:22:48.943997Z",
     "shell.execute_reply.started": "2022-07-23T18:08:16.033793Z"
    },
    "papermill": {
     "duration": 0.065722,
     "end_time": "2022-07-23T18:22:48.944174",
     "exception": false,
     "start_time": "2022-07-23T18:22:48.878452",
     "status": "completed"
    },
    "tags": []
   },
   "outputs": [
    {
     "name": "stdout",
     "output_type": "stream",
     "text": [
      "Imported!\n"
     ]
    }
   ],
   "source": [
    "from sklearn.linear_model import LogisticRegression\n",
    "from sklearn.metrics import accuracy_score, confusion_matrix, precision_score\n",
    "print(\"Imported!\")"
   ]
  },
  {
   "cell_type": "code",
   "execution_count": 36,
   "id": "dcf54c19",
   "metadata": {
    "execution": {
     "iopub.execute_input": "2022-07-23T18:22:49.061599Z",
     "iopub.status.busy": "2022-07-23T18:22:49.060956Z",
     "iopub.status.idle": "2022-07-23T18:22:49.064284Z",
     "shell.execute_reply": "2022-07-23T18:22:49.064787Z",
     "shell.execute_reply.started": "2022-07-23T18:08:16.041049Z"
    },
    "papermill": {
     "duration": 0.063964,
     "end_time": "2022-07-23T18:22:49.064954",
     "exception": false,
     "start_time": "2022-07-23T18:22:49.000990",
     "status": "completed"
    },
    "tags": []
   },
   "outputs": [],
   "source": [
    "lrc = LogisticRegression(solver=\"liblinear\", penalty = \"l1\")\n"
   ]
  },
  {
   "cell_type": "code",
   "execution_count": 37,
   "id": "12e8fe7e",
   "metadata": {
    "execution": {
     "iopub.execute_input": "2022-07-23T18:22:49.183026Z",
     "iopub.status.busy": "2022-07-23T18:22:49.182398Z",
     "iopub.status.idle": "2022-07-23T18:22:49.186097Z",
     "shell.execute_reply": "2022-07-23T18:22:49.185501Z",
     "shell.execute_reply.started": "2022-07-23T18:08:16.051624Z"
    },
    "papermill": {
     "duration": 0.063331,
     "end_time": "2022-07-23T18:22:49.186228",
     "exception": false,
     "start_time": "2022-07-23T18:22:49.122897",
     "status": "completed"
    },
    "tags": []
   },
   "outputs": [],
   "source": [
    "clfs = {\n",
    "    'LR': lrc,\n",
    "}"
   ]
  },
  {
   "cell_type": "code",
   "execution_count": 38,
   "id": "5aa81a35",
   "metadata": {
    "execution": {
     "iopub.execute_input": "2022-07-23T18:22:49.305430Z",
     "iopub.status.busy": "2022-07-23T18:22:49.304624Z",
     "iopub.status.idle": "2022-07-23T18:22:49.307421Z",
     "shell.execute_reply": "2022-07-23T18:22:49.306903Z",
     "shell.execute_reply.started": "2022-07-23T18:08:16.063949Z"
    },
    "papermill": {
     "duration": 0.064548,
     "end_time": "2022-07-23T18:22:49.307562",
     "exception": false,
     "start_time": "2022-07-23T18:22:49.243014",
     "status": "completed"
    },
    "tags": []
   },
   "outputs": [],
   "source": [
    "def train_classifier(clf, X_train,Y_train,x_test,y_test):\n",
    "    clf.fit(X_train,Y_train)\n",
    "    y_pred = clf.predict(x_test)\n",
    "    accuracy = accuracy_score(y_test,y_pred)\n",
    "    precision = precision_score(y_test, y_pred)\n",
    "    \n",
    "    return accuracy, precision"
   ]
  },
  {
   "cell_type": "code",
   "execution_count": 39,
   "id": "8ffe16b7",
   "metadata": {
    "execution": {
     "iopub.execute_input": "2022-07-23T18:22:49.429835Z",
     "iopub.status.busy": "2022-07-23T18:22:49.424661Z",
     "iopub.status.idle": "2022-07-23T18:23:06.588145Z",
     "shell.execute_reply": "2022-07-23T18:23:06.588929Z",
     "shell.execute_reply.started": "2022-07-23T18:08:16.075105Z"
    },
    "papermill": {
     "duration": 17.224128,
     "end_time": "2022-07-23T18:23:06.589149",
     "exception": false,
     "start_time": "2022-07-23T18:22:49.365021",
     "status": "completed"
    },
    "tags": []
   },
   "outputs": [
    {
     "name": "stdout",
     "output_type": "stream",
     "text": [
      "Classifier Name: LR\n",
      "Accuracy: 0.8702131998807712\n",
      "Precision: 0.8496066677980116\n",
      "\n"
     ]
    }
   ],
   "source": [
    "accuracy_scores = []\n",
    "precision_scores = []\n",
    "\n",
    "for name,clf in clfs.items():\n",
    "    \n",
    "    current_accuracy,current_precision = train_classifier(clf,X_train,y_train,X_test,y_test)\n",
    "    print(\"Classifier Name:\",name)\n",
    "    \n",
    "    print(\"Accuracy:\", current_accuracy)\n",
    "    print(\"Precision:\",current_precision)\n",
    "    print()\n",
    "    accuracy_scores.append(current_accuracy)\n",
    "    precision_scores.append(current_precision)"
   ]
  },
  {
   "cell_type": "code",
   "execution_count": 40,
   "id": "811baa72",
   "metadata": {
    "execution": {
     "iopub.execute_input": "2022-07-23T18:23:06.706454Z",
     "iopub.status.busy": "2022-07-23T18:23:06.705807Z",
     "iopub.status.idle": "2022-07-23T18:23:06.711360Z",
     "shell.execute_reply": "2022-07-23T18:23:06.711836Z",
     "shell.execute_reply.started": "2022-07-23T18:08:33.948945Z"
    },
    "papermill": {
     "duration": 0.065441,
     "end_time": "2022-07-23T18:23:06.712009",
     "exception": false,
     "start_time": "2022-07-23T18:23:06.646568",
     "status": "completed"
    },
    "tags": []
   },
   "outputs": [],
   "source": [
    "performance_df = pd.DataFrame({\"Algorithm\":clfs.keys(),\"Accuracy\":accuracy_scores,\"Precision\":precision_scores})"
   ]
  },
  {
   "cell_type": "code",
   "execution_count": 41,
   "id": "24f8e080",
   "metadata": {
    "execution": {
     "iopub.execute_input": "2022-07-23T18:23:06.837125Z",
     "iopub.status.busy": "2022-07-23T18:23:06.836484Z",
     "iopub.status.idle": "2022-07-23T18:23:06.840545Z",
     "shell.execute_reply": "2022-07-23T18:23:06.840009Z",
     "shell.execute_reply.started": "2022-07-23T18:08:33.956828Z"
    },
    "papermill": {
     "duration": 0.071251,
     "end_time": "2022-07-23T18:23:06.840679",
     "exception": false,
     "start_time": "2022-07-23T18:23:06.769428",
     "status": "completed"
    },
    "tags": []
   },
   "outputs": [
    {
     "data": {
      "text/html": [
       "<div>\n",
       "<style scoped>\n",
       "    .dataframe tbody tr th:only-of-type {\n",
       "        vertical-align: middle;\n",
       "    }\n",
       "\n",
       "    .dataframe tbody tr th {\n",
       "        vertical-align: top;\n",
       "    }\n",
       "\n",
       "    .dataframe thead th {\n",
       "        text-align: right;\n",
       "    }\n",
       "</style>\n",
       "<table border=\"1\" class=\"dataframe\">\n",
       "  <thead>\n",
       "    <tr style=\"text-align: right;\">\n",
       "      <th></th>\n",
       "      <th>Algorithm</th>\n",
       "      <th>Accuracy</th>\n",
       "      <th>Precision</th>\n",
       "    </tr>\n",
       "  </thead>\n",
       "  <tbody>\n",
       "    <tr>\n",
       "      <th>0</th>\n",
       "      <td>LR</td>\n",
       "      <td>0.870213</td>\n",
       "      <td>0.849607</td>\n",
       "    </tr>\n",
       "  </tbody>\n",
       "</table>\n",
       "</div>"
      ],
      "text/plain": [
       "  Algorithm  Accuracy  Precision\n",
       "0        LR  0.870213   0.849607"
      ]
     },
     "execution_count": 41,
     "metadata": {},
     "output_type": "execute_result"
    }
   ],
   "source": [
    "performance_df"
   ]
  }
 ],
 "metadata": {
  "kernelspec": {
   "display_name": "Python 3",
   "language": "python",
   "name": "python3"
  },
  "language_info": {
   "codemirror_mode": {
    "name": "ipython",
    "version": 3
   },
   "file_extension": ".py",
   "mimetype": "text/x-python",
   "name": "python",
   "nbconvert_exporter": "python",
   "pygments_lexer": "ipython3",
   "version": "3.7.10"
  },
  "papermill": {
   "default_parameters": {},
   "duration": 244.685041,
   "end_time": "2022-07-23T18:23:08.224959",
   "environment_variables": {},
   "exception": null,
   "input_path": "__notebook__.ipynb",
   "output_path": "__notebook__.ipynb",
   "parameters": {},
   "start_time": "2022-07-23T18:19:03.539918",
   "version": "2.3.3"
  }
 },
 "nbformat": 4,
 "nbformat_minor": 5
}
